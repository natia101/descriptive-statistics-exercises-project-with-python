{
    "cells": [
        {
            "cell_type": "markdown",
            "id": "ac622319",
            "metadata": {},
            "source": [
                "# Descriptive Statistics Problems"
            ]
        },
        {
            "cell_type": "markdown",
            "id": "aa8993e4",
            "metadata": {},
            "source": [
                "### Exercise 1"
            ]
        },
        {
            "cell_type": "markdown",
            "id": "5e0ab0d5",
            "metadata": {},
            "source": [
                "As right now, you are familliar with numpy, we are going to use numpy to get some data statistics.\n",
                "\n",
                "First, lets create an array of 20 elements distributed normally (Gaussian):\n",
                "\n",
                "Use the np.random.normal function to create some data, using 0,1,20 as parameters because we want a one dimentional array of 20 numbers distributed normally (Gaussian)"
            ]
        },
        {
            "cell_type": "code",
            "execution_count": 1,
            "id": "34720ab6",
            "metadata": {},
            "outputs": [
                {
                    "name": "stdout",
                    "output_type": "stream",
                    "text": [
                        "[-10.85630603   9.97345447   2.82978498 ...  20.40431995  10.15916973\n",
                        " -16.33788169]\n"
                    ]
                }
            ],
            "source": [
                "#import libraries\n",
                "import numpy as np\n",
                "\n",
                "\n",
                "# Set seed in order to get similar results\n",
                "np.random.seed(123)\n",
                "\n",
                "# create the data\n",
                "num = np.random.normal(0,10,3000)\n",
                "\n",
                "#print results\n",
                "print(num)"
            ]
        },
        {
            "cell_type": "code",
            "execution_count": 2,
            "id": "49c55822",
            "metadata": {},
            "outputs": [
                {
                    "data": {
                        "text/plain": [
                            "-0.06940626102629906"
                        ]
                    },
                    "execution_count": 2,
                    "metadata": {},
                    "output_type": "execute_result"
                }
            ],
            "source": [
                "#Use numpy to get the mean of your data\n",
                "np.mean(num)"
            ]
        },
        {
            "cell_type": "code",
            "execution_count": 3,
            "id": "03529459",
            "metadata": {},
            "outputs": [
                {
                    "data": {
                        "text/plain": [
                            "96.14056359531011"
                        ]
                    },
                    "execution_count": 3,
                    "metadata": {},
                    "output_type": "execute_result"
                }
            ],
            "source": [
                "#get the variance of your data\n",
                "np.var(num)"
            ]
        },
        {
            "cell_type": "code",
            "execution_count": 4,
            "id": "e53f30c5",
            "metadata": {},
            "outputs": [
                {
                    "data": {
                        "text/plain": [
                            "9.805129453266291"
                        ]
                    },
                    "execution_count": 4,
                    "metadata": {},
                    "output_type": "execute_result"
                }
            ],
            "source": [
                "# Standard deviation\n",
                "np.std(num)"
            ]
        },
        {
            "cell_type": "code",
            "execution_count": 7,
            "id": "9bce852f",
            "metadata": {},
            "outputs": [
                {
                    "name": "stdout",
                    "output_type": "stream",
                    "text": [
                        "ModeResult(mode=array([3]), count=array([4]))\n"
                    ]
                },
                {
                    "name": "stderr",
                    "output_type": "stream",
                    "text": [
                        "/tmp/ipykernel_1648/2147694193.py:6: FutureWarning: Unlike other reduction functions (e.g. `skew`, `kurtosis`), the default behavior of `mode` typically preserves the axis it acts along. In SciPy 1.11.0, this behavior will change: the default value of `keepdims` will become False, the `axis` over which the statistic is taken will be eliminated, and the value None will no longer be accepted. Set `keepdims` to True or False to avoid this warning.\n",
                        "  print(stats.mode(x))\n"
                    ]
                }
            ],
            "source": [
                "#import libraries and print the mode\n",
                "from scipy import stats\n",
                "\n",
                "# Mode for continuous array\n",
                "x = np.array([1,2,1,2,3,4,5,2,4,6,3,3,1,3])\n",
                "print(stats.mode(x))"
            ]
        },
        {
            "cell_type": "code",
            "execution_count": 6,
            "id": "c682cb6e",
            "metadata": {},
            "outputs": [],
            "source": [
                "# Median\n",
                "np.median(num)"
            ]
        },
        {
            "cell_type": "code",
            "execution_count": 10,
            "id": "39c3fabd",
            "metadata": {},
            "outputs": [
                {
                    "name": "stdout",
                    "output_type": "stream",
                    "text": [
                        "1st,2nd and 3er quantile with middle value: [-6.62011769  0.13231991  6.58823523]\n",
                        "1st,2nd and 3er quantile with lower: [-6.63395136  0.12904456  6.58617565]\n",
                        "1st,2nd and 3er quantile with higher: [-6.61550647  0.13559525  6.59441396]\n"
                    ]
                }
            ],
            "source": [
                "# Print the Quantiles\n",
                "print('1st,2nd and 3er quantile with middle value:',np.quantile(num,[0.25,0.5,0.75]))\n",
                "print('1st,2nd and 3er quantile with lower:',np.quantile(num,[0.25,0.5,0.75], method='lower'))\n",
                "print('1st,2nd and 3er quantile with higher:',np.quantile(num,[0.25,0.5,0.75], method='higher'))\n",
                "\n",
                "# This match with np.median, why?\n",
                "#El segundo cuartil indica el valor que acumula el 50% de la muestra, por lo que es exactamente lo mismo que la mediana."
            ]
        },
        {
            "cell_type": "markdown",
            "id": "46c70c3d",
            "metadata": {},
            "source": [
                "### Exercise 2\n",
                "\n",
                "Write a Python program to calculate the standard deviation of the following data:\n",
                "```py\n",
                "data = [4, 2, 5, 8, 6]\n",
                "```"
            ]
        },
        {
            "cell_type": "code",
            "execution_count": 11,
            "id": "d590308e",
            "metadata": {},
            "outputs": [
                {
                    "name": "stdout",
                    "output_type": "stream",
                    "text": [
                        "Data:\n",
                        "[4, 2, 5, 8, 6]\n",
                        "\n",
                        "Standard deviation of the data: 2.24\n"
                    ]
                }
            ],
            "source": [
                "import math\n",
                "import sys\n",
                "\n",
                "\n",
                "def avg_calc(data):\n",
                "    result=sum(data)/len(data)\n",
                "    return result\n",
                "    \n",
                "\n",
                "# Define the standard deviation function\n",
                "\n",
                "def sd_calc(data):\n",
                "    result= math.sqrt(sum([(i-avg_calc(data))**2 for i in list(data)])/(len(data)-1))\n",
                "    return result    \n",
                "\n",
                "#print the data\n",
                "\n",
                "#data = np.array([4, 2, 5, 8, 6]) # numpy array\n",
                "data = [4, 2, 5, 8, 6] # list\n",
                "\n",
                "print('Data:')\n",
                "print(data)\n",
                "print('')\n",
                "#print the standard deviation of the data\n",
                "\n",
                "print('Standard deviation of the data:',round(sd_calc(data),2))\n",
                "    \n",
                "    \n",
                "\n"
            ]
        },
        {
            "cell_type": "markdown",
            "id": "04b71791",
            "metadata": {},
            "source": [
                "Source:\n",
                "\n",
                "https://www.w3resource.com/"
            ]
        }
    ],
    "metadata": {
        "kernelspec": {
            "display_name": "Python 3.8.13 64-bit ('shims')",
            "language": "python",
            "name": "python3"
        },
        "language_info": {
            "codemirror_mode": {
                "name": "ipython",
                "version": 3
            },
            "file_extension": ".py",
            "mimetype": "text/x-python",
            "name": "python",
            "nbconvert_exporter": "python",
            "pygments_lexer": "ipython3",
            "version": "3.8.13"
        },
        "vscode": {
            "interpreter": {
                "hash": "9ac03a0a6051494cc606d484d27d20fce22fb7b4d169f583271e11d5ba46a56e"
            }
        }
    },
    "nbformat": 4,
    "nbformat_minor": 5
}
